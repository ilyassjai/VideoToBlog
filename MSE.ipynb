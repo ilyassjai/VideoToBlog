{
 "cells": [
  {
   "cell_type": "code",
   "execution_count": 5,
   "metadata": {},
   "outputs": [],
   "source": [
    "import cv2\n",
    "import numpy as np\n",
    "import os"
   ]
  },
  {
   "cell_type": "code",
   "execution_count": 6,
   "metadata": {},
   "outputs": [
    {
     "name": "stdout",
     "output_type": "stream",
     "text": [
      "Saved slide_0.png at time 2.966666666666667 seconds\n",
      "Saved slide_1.png at time 6.7 seconds\n",
      "Saved slide_2.png at time 10.033333333333333 seconds\n",
      "Saved slide_3.png at time 15.766666666666667 seconds\n",
      "Saved slide_4.png at time 97.83333333333333 seconds\n",
      "Saved slide_5.png at time 124.4 seconds\n",
      "Saved slide_6.png at time 153.16666666666666 seconds\n",
      "Saved slide_7.png at time 196.3 seconds\n",
      "Saved slide_8.png at time 270.3333333333333 seconds\n",
      "Saved slide_9.png at time 284.8 seconds\n",
      "Saved slide_10.png at time 340.1 seconds\n",
      "Saved slide_11.png at time 426.93333333333334 seconds\n",
      "Done!\n",
      "{0: (0, 2.966666666666667), 1: (2.966666666666667, 6.7), 2: (6.7, 10.033333333333333), 3: (10.033333333333333, 15.766666666666667), 4: (15.766666666666667, 97.83333333333333), 5: (97.83333333333333, 124.4), 6: (124.4, 153.16666666666666), 7: (153.16666666666666, 196.3), 8: (196.3, 270.3333333333333), 9: (270.3333333333333, 284.8), 10: (284.8, 340.1), 11: (340.1, 426.93333333333334)}\n"
     ]
    }
   ],
   "source": [
    "\n",
    "\n",
    "def mse(imageA, imageB):\n",
    "    err = np.sum((imageA.astype(\"float\") - imageB.astype(\"float\")) ** 2)\n",
    "    err /= float(imageA.shape[0] * imageA.shape[1])\n",
    "    return err\n",
    "l=[]\n",
    "def extract_unique_slides_mse(video_path, output_folder, mse_threshold=1000):\n",
    "    if not os.path.exists(output_folder):\n",
    "        os.makedirs(output_folder)\n",
    "\n",
    "    vidcap = cv2.VideoCapture(video_path)\n",
    "    fps = vidcap.get(cv2.CAP_PROP_FPS)\n",
    "    success, prev_frame = vidcap.read()\n",
    "    count = 0\n",
    "    saved_frame = 0\n",
    "    prev_gray = cv2.cvtColor(prev_frame, cv2.COLOR_BGR2GRAY)\n",
    "\n",
    "    slide_times = []\n",
    "    start_time = 0\n",
    "\n",
    "    while success:\n",
    "        success, frame = vidcap.read()\n",
    "        if not success:\n",
    "            break\n",
    "\n",
    "        gray = cv2.cvtColor(frame, cv2.COLOR_BGR2GRAY)\n",
    "        mse_value = mse(prev_gray, gray)\n",
    "        prev_gray = gray\n",
    "        l.append(mse_value)\n",
    "\n",
    "        current_time = count / fps\n",
    "\n",
    "        if mse_value > mse_threshold:\n",
    "            img_path = os.path.join(output_folder, f\"slide_{saved_frame}.png\")\n",
    "            cv2.imwrite(img_path, frame)\n",
    "            print(f\"Saved slide_{saved_frame}.png at time {current_time} seconds\")\n",
    "            end_time = current_time\n",
    "            slide_times.append((start_time, end_time))\n",
    "            start_time = current_time\n",
    "            saved_frame += 1\n",
    "\n",
    "        count += 1\n",
    "\n",
    "    vidcap.release()\n",
    "    print(\"Done!\")\n",
    "\n",
    "    return slide_times\n",
    "\n",
    "video_path = \"C:\\\\Users\\\\marou\\\\Desktop\\\\VIDEO2BLOG\\\\vid.mp4\"\n",
    "output_folder = \"C:\\\\Users\\\\marou\\\\Desktop\\\\VIDEO2BLOG\\\\slidemse\"\n",
    "slide_times = extract_unique_slides_mse(video_path, output_folder)\n",
    "dict = {}\n",
    "for i, (start, end) in enumerate(slide_times):\n",
    "    dict[i] = (start, end)\n",
    "print(dict)"
   ]
  },
  {
   "cell_type": "code",
   "execution_count": 7,
   "metadata": {},
   "outputs": [
    {
     "name": "stdout",
     "output_type": "stream",
     "text": [
      "{0: '& °\\n‘ _universite\\n\\nCentraleSupélec |. PARIS-SACLAY\\n\\nChapter II\\nModeling with PDEs & Classification\\n\\nPartial Differential Equations\\nJohn Cagnol\\n\\n', 1: '& °\\n‘ _untversite\\n\\nCentraleSupélec | PARIS-SACLAY\\n\\nPartial Differential Equations\\nJohn Cagnol\\n', 2: '&% université Well-Posedness\\n\\nCentraleSupélec | PARIS-SACLAY\\n\\nDefinition\\nLet E and F be two spaces. Let f € F bea dataand A: E — F. Weare\\nlooking for solutions u € E to A(u) = f (the PDE).\\n\\nThe PDE is well-posed in the sense of Hadamard if:\\nP asolution u exists,\\nP the solution u is unique,\\n\\n> uchanges “continuously” with respect tof.\\n\\nA PDE that is not well-posed is said to be ill-posed\\n\\n', 3: 'Well-Posedness\\n\\nLet E and F be two spaces. Let f € F beadataand A: E — F. Weare\\nlooking for solutions u € E to A(u) = f (the PDE).\\n\\nuniversité\\nCentraleSupélec | PARIS-SACLAY\\n\\nThe PDE is well-posed in the sense of Hadamard if:\\n> asolution u exists,\\nP the solution u is unique,\\n> uchanges “continuously” with respect tof.\\n\\nA PDE that is not well-posed is said to be ill-posed\\n', 4: 'a o\\ne) université\\n\\nCentraleSupélec | PARIS-SACLAY\\n\\n1.2 Definitions\\n\\n1.2.2 Wellposedness\\n\\nPartial Differential Equations\\nJohn Cagnol\\n\\n', 5: '&% .\\n% universiteé\\n\\nCentraleSupélec | PARIS-SACLAY\\n\\nPDE: infinite number of solutions\\nProblem: PDE + conditions\\n\\n> initial condition (Cauchy problem) for evolution equations:\\nvalue at t = 0.\\n\\n> boundary conditions:\\nvalue on 0Q\\n\\n', 6: '% i unversité Boundary Conditions\\n\\nCentraleSupélec | PARIS-SACLAY\\n\\nDefinition\\n\\nLet Q C R¢ be a regular open set of class C},\\n\\nConsider a PDE Au = f on QQ where A is the differential operator, u is the\\nunknown and f is the data.\\n\\nThe Boundary Condition (B.C.) is an equation that u must satisfy on OQ (or\\npart of OQ).\\n\\ny \\\\\\\\_ Value (or other property)\\n/ given on the boundary\\n\\n\\\\ a0\\n\\n/, Region governed |\\nbythe PDE /\\n', 7: '% i unversite Boundary Conditions\\n\\nCentraleSupélec | PARIS-SACLAY\\ninition\\n\\nA Dirichlet boundary condition is u = g on OQ for a given g.\\n\\nA Homogeneous Dirichlet boundary condition is u = 0 on OQ.\\n\\n', 8: '% i unversite Boundary Conditions\\n\\nCentraleSupélec | PARIS-SACLAY\\n\\nDefinition\\n\\nA Dirichlet boundary condition is u = g on OQ for a given g.\\n\\nA Homogeneous Dirichlet boundary condition is u = 0 on OQ.\\n\\n{ —Au(x) = f(x) xe\\n\\nulan =0\\n\\nis an elliptic PDE with homogeneous Dirichlet boundary condition.\\n', 9: 'S unversité Boundary Conditions\\n\\nCentraleSupélec | PARIS-SACLAY\\nDefinition\\n\\nA Dirichlet boundary condition is u = g on OQ for a given g.\\n\\nA Homogeneous Dirichlet boundary condition is u = 0 on OQ.\\n\\nu(t, x) — Au(t, x) = f(t, x) (t,x) €]0, T[xQ\\nulan(t) = 0 t €]0, T[\\nu(0, x) = ¢(x) and 240, x) =yY(x) xEQ\\n\\nis a parabolic PDE with homogeneous Dirichlet boundary condition and with a\\ngiven initial condition.\\n\\n', 10: '% i unversité Boundary Conditions\\n\\nCentraleSupélec | PARIS-SACLAY\\ninition\\n\\nA Neumann boundary condition is 3u = g on 00 for a given g.\\n\\nA Homogeneous Neumann B.C. is 5 ou = 00nd.\\n\\n', 11: 'g °\\n> université\\n\\nCentraleSupélec | PARIS-SACLAY\\n\\nBoundary Conditions\\n\\nDefinition\\n\\nA Neumann boundary condition is 9u = gon OO for a given g.\\n\\nA Homogeneous Neumann B.C. is 5 ou = 00nd.\\n\\nExample\\n\\nOu _\\non = on dQ\\n\\nis an elliptic PDE with homogeneous Neumann boundary condition.\\n\\n{ —Au(x) = f(x) mQ\\n'}\n"
     ]
    }
   ],
   "source": [
    "import cv2\n",
    "import pytesseract\n",
    "import os\n",
    "# Set the tesseract path in the script before calling image_to_string\n",
    "pytesseract.pytesseract.tesseract_cmd = 'C:\\\\Program Files\\\\Tesseract-OCR\\\\tesseract.exe'\n",
    "dicts = {}\n",
    "\n",
    "def extract_text_from_image(image_path):\n",
    "    for i, img_file in enumerate(os.listdir(image_path)):\n",
    "        img = cv2.imread(os.path.join(image_path, img_file))\n",
    "\n",
    "        # Use pytesseract to extract text\n",
    "        text = pytesseract.image_to_string(img)\n",
    "        #add the text to a dictionary\n",
    "        dicts[i] = text\n",
    "\n",
    "    return dicts\n",
    "\n",
    "image_path = \"C:\\\\Users\\\\marou\\\\Desktop\\\\VIDEO2BLOG\\\\slidemse\"\n",
    "dicts = extract_text_from_image(image_path)\n",
    "print(dicts)"
   ]
  },
  {
   "cell_type": "code",
   "execution_count": 8,
   "metadata": {},
   "outputs": [
    {
     "name": "stdout",
     "output_type": "stream",
     "text": [
      "{\n",
      "    \"0\": {\n",
      "        \"path\": \"C:\\\\Users\\\\marou\\\\Desktop\\\\VIDEO2BLOG\\\\slidemse\\\\slide_0.png\",\n",
      "        \"start\": 0,\n",
      "        \"end\": 2.966666666666667,\n",
      "        \"descrp\": \"& \\u00b0\\n\\u2018 _universite\\n\\nCentraleSup\\u00e9lec |. PARIS-SACLAY\\n\\nChapter II\\nModeling with PDEs & Classification\\n\\nPartial Differential Equations\\nJohn Cagnol\\n\\n\"\n",
      "    },\n",
      "    \"1\": {\n",
      "        \"path\": \"C:\\\\Users\\\\marou\\\\Desktop\\\\VIDEO2BLOG\\\\slidemse\\\\slide_1.png\",\n",
      "        \"start\": 2.966666666666667,\n",
      "        \"end\": 6.7,\n",
      "        \"descrp\": \"& \\u00b0\\n\\u2018 _untversite\\n\\nCentraleSup\\u00e9lec | PARIS-SACLAY\\n\\nPartial Differential Equations\\nJohn Cagnol\\n\"\n",
      "    },\n",
      "    \"2\": {\n",
      "        \"path\": \"C:\\\\Users\\\\marou\\\\Desktop\\\\VIDEO2BLOG\\\\slidemse\\\\slide_2.png\",\n",
      "        \"start\": 6.7,\n",
      "        \"end\": 10.033333333333333,\n",
      "        \"descrp\": \"&% universit\\u00e9 Well-Posedness\\n\\nCentraleSup\\u00e9lec | PARIS-SACLAY\\n\\nDefinition\\nLet E and F be two spaces. Let f \\u20ac F bea dataand A: E \\u2014 F. Weare\\nlooking for solutions u \\u20ac E to A(u) = f (the PDE).\\n\\nThe PDE is well-posed in the sense of Hadamard if:\\nP asolution u exists,\\nP the solution u is unique,\\n\\n> uchanges \\u201ccontinuously\\u201d with respect tof.\\n\\nA PDE that is not well-posed is said to be ill-posed\\n\\n\"\n",
      "    },\n",
      "    \"3\": {\n",
      "        \"path\": \"C:\\\\Users\\\\marou\\\\Desktop\\\\VIDEO2BLOG\\\\slidemse\\\\slide_3.png\",\n",
      "        \"start\": 10.033333333333333,\n",
      "        \"end\": 15.766666666666667,\n",
      "        \"descrp\": \"Well-Posedness\\n\\nLet E and F be two spaces. Let f \\u20ac F beadataand A: E \\u2014 F. Weare\\nlooking for solutions u \\u20ac E to A(u) = f (the PDE).\\n\\nuniversit\\u00e9\\nCentraleSup\\u00e9lec | PARIS-SACLAY\\n\\nThe PDE is well-posed in the sense of Hadamard if:\\n> asolution u exists,\\nP the solution u is unique,\\n> uchanges \\u201ccontinuously\\u201d with respect tof.\\n\\nA PDE that is not well-posed is said to be ill-posed\\n\"\n",
      "    },\n",
      "    \"4\": {\n",
      "        \"path\": \"C:\\\\Users\\\\marou\\\\Desktop\\\\VIDEO2BLOG\\\\slidemse\\\\slide_4.png\",\n",
      "        \"start\": 15.766666666666667,\n",
      "        \"end\": 97.83333333333333,\n",
      "        \"descrp\": \"a o\\ne) universit\\u00e9\\n\\nCentraleSup\\u00e9lec | PARIS-SACLAY\\n\\n1.2 Definitions\\n\\n1.2.2 Wellposedness\\n\\nPartial Differential Equations\\nJohn Cagnol\\n\\n\"\n",
      "    },\n",
      "    \"5\": {\n",
      "        \"path\": \"C:\\\\Users\\\\marou\\\\Desktop\\\\VIDEO2BLOG\\\\slidemse\\\\slide_5.png\",\n",
      "        \"start\": 97.83333333333333,\n",
      "        \"end\": 124.4,\n",
      "        \"descrp\": \"&% .\\n% universite\\u00e9\\n\\nCentraleSup\\u00e9lec | PARIS-SACLAY\\n\\nPDE: infinite number of solutions\\nProblem: PDE + conditions\\n\\n> initial condition (Cauchy problem) for evolution equations:\\nvalue at t = 0.\\n\\n> boundary conditions:\\nvalue on 0Q\\n\\n\"\n",
      "    },\n",
      "    \"6\": {\n",
      "        \"path\": \"C:\\\\Users\\\\marou\\\\Desktop\\\\VIDEO2BLOG\\\\slidemse\\\\slide_6.png\",\n",
      "        \"start\": 124.4,\n",
      "        \"end\": 153.16666666666666,\n",
      "        \"descrp\": \"% i unversit\\u00e9 Boundary Conditions\\n\\nCentraleSup\\u00e9lec | PARIS-SACLAY\\n\\nDefinition\\n\\nLet Q C R\\u00a2 be a regular open set of class C},\\n\\nConsider a PDE Au = f on QQ where A is the differential operator, u is the\\nunknown and f is the data.\\n\\nThe Boundary Condition (B.C.) is an equation that u must satisfy on OQ (or\\npart of OQ).\\n\\ny \\\\\\\\_ Value (or other property)\\n/ given on the boundary\\n\\n\\\\ a0\\n\\n/, Region governed |\\nbythe PDE /\\n\"\n",
      "    },\n",
      "    \"7\": {\n",
      "        \"path\": \"C:\\\\Users\\\\marou\\\\Desktop\\\\VIDEO2BLOG\\\\slidemse\\\\slide_7.png\",\n",
      "        \"start\": 153.16666666666666,\n",
      "        \"end\": 196.3,\n",
      "        \"descrp\": \"% i unversite Boundary Conditions\\n\\nCentraleSup\\u00e9lec | PARIS-SACLAY\\ninition\\n\\nA Dirichlet boundary condition is u = g on OQ for a given g.\\n\\nA Homogeneous Dirichlet boundary condition is u = 0 on OQ.\\n\\n\"\n",
      "    },\n",
      "    \"8\": {\n",
      "        \"path\": \"C:\\\\Users\\\\marou\\\\Desktop\\\\VIDEO2BLOG\\\\slidemse\\\\slide_8.png\",\n",
      "        \"start\": 196.3,\n",
      "        \"end\": 270.3333333333333,\n",
      "        \"descrp\": \"% i unversite Boundary Conditions\\n\\nCentraleSup\\u00e9lec | PARIS-SACLAY\\n\\nDefinition\\n\\nA Dirichlet boundary condition is u = g on OQ for a given g.\\n\\nA Homogeneous Dirichlet boundary condition is u = 0 on OQ.\\n\\n{ \\u2014Au(x) = f(x) xe\\n\\nulan =0\\n\\nis an elliptic PDE with homogeneous Dirichlet boundary condition.\\n\"\n",
      "    },\n",
      "    \"9\": {\n",
      "        \"path\": \"C:\\\\Users\\\\marou\\\\Desktop\\\\VIDEO2BLOG\\\\slidemse\\\\slide_9.png\",\n",
      "        \"start\": 270.3333333333333,\n",
      "        \"end\": 284.8,\n",
      "        \"descrp\": \"S unversit\\u00e9 Boundary Conditions\\n\\nCentraleSup\\u00e9lec | PARIS-SACLAY\\nDefinition\\n\\nA Dirichlet boundary condition is u = g on OQ for a given g.\\n\\nA Homogeneous Dirichlet boundary condition is u = 0 on OQ.\\n\\nu(t, x) \\u2014 Au(t, x) = f(t, x) (t,x) \\u20ac]0, T[xQ\\nulan(t) = 0 t \\u20ac]0, T[\\nu(0, x) = \\u00a2(x) and 240, x) =yY(x) xEQ\\n\\nis a parabolic PDE with homogeneous Dirichlet boundary condition and with a\\ngiven initial condition.\\n\\n\"\n",
      "    },\n",
      "    \"10\": {\n",
      "        \"path\": \"C:\\\\Users\\\\marou\\\\Desktop\\\\VIDEO2BLOG\\\\slidemse\\\\slide_10.png\",\n",
      "        \"start\": 284.8,\n",
      "        \"end\": 340.1,\n",
      "        \"descrp\": \"% i unversit\\u00e9 Boundary Conditions\\n\\nCentraleSup\\u00e9lec | PARIS-SACLAY\\ninition\\n\\nA Neumann boundary condition is 3u = g on 00 for a given g.\\n\\nA Homogeneous Neumann B.C. is 5 ou = 00nd.\\n\\n\"\n",
      "    },\n",
      "    \"11\": {\n",
      "        \"path\": \"C:\\\\Users\\\\marou\\\\Desktop\\\\VIDEO2BLOG\\\\slidemse\\\\slide_11.png\",\n",
      "        \"start\": 340.1,\n",
      "        \"end\": 426.93333333333334,\n",
      "        \"descrp\": \"g \\u00b0\\n> universit\\u00e9\\n\\nCentraleSup\\u00e9lec | PARIS-SACLAY\\n\\nBoundary Conditions\\n\\nDefinition\\n\\nA Neumann boundary condition is 9u = gon OO for a given g.\\n\\nA Homogeneous Neumann B.C. is 5 ou = 00nd.\\n\\nExample\\n\\nOu _\\non = on dQ\\n\\nis an elliptic PDE with homogeneous Neumann boundary condition.\\n\\n{ \\u2014Au(x) = f(x) mQ\\n\"\n",
      "    }\n",
      "}\n"
     ]
    }
   ],
   "source": [
    "import json\n",
    "def combine_dicts(dict1, dict2):\n",
    "    combined = {}\n",
    "    for i in range(len(dict1)):\n",
    "        combined[i] = {\n",
    "            \"path\": f\"C:\\\\Users\\\\marou\\\\Desktop\\\\VIDEO2BLOG\\\\slidemse\\\\slide_{i}.png\",\n",
    "            \"start\": dict1[i][0],\n",
    "            \"end\": dict1[i][1],\n",
    "            \"descrp\": dict2[i]\n",
    "        }\n",
    "    return json.dumps(combined, indent=4)\n",
    "\n",
    "combined_json = combine_dicts(dict, dicts)\n",
    "print(combined_json)"
   ]
  },
  {
   "cell_type": "code",
   "execution_count": 9,
   "metadata": {},
   "outputs": [
    {
     "data": {
      "image/png": "[encoded data removed]",
      "text/plain": [
       "<Figure size 640x480 with 1 Axes>"
      ]
     },
     "metadata": {},
     "output_type": "display_data"
    }
   ],
   "source": [
    "import matplotlib.pyplot as plt\n",
    "plt.plot(l, marker='o', linestyle='-')\n",
    "plt.title('MSE between consecutive frames')\n",
    "plt.xlabel('Consecutive Image Pair Index')\n",
    "plt.ylabel('mse_value')\n",
    "plt.grid(True)\n",
    "plt.show()"
   ]
  },
  {
   "cell_type": "code",
   "execution_count": 7,
   "metadata": {},
   "outputs": [
    {
     "name": "stdout",
     "output_type": "stream",
     "text": [
      "Otsu's threshold value is: 2449.7757869720463\n"
     ]
    }
   ],
   "source": [
    "import numpy as np\n",
    "from skimage.filters import threshold_otsu\n",
    "\n",
    "# Convert your list 'l' to a numpy array\n",
    "l_array = np.array(l)\n",
    "\n",
    "# Compute Otsu's threshold\n",
    "otsu_threshold = threshold_otsu(l_array)\n",
    "\n",
    "print(f\"Otsu's threshold value is: {otsu_threshold}\")\n"
   ]
  },
  {
   "cell_type": "code",
   "execution_count": 10,
   "metadata": {},
   "outputs": [],
   "source": [
    "with open('combined.json', 'w') as f:\n",
    "    f.write(combined_json)"
   ]
  }
 ],
 "metadata": {
  "kernelspec": {
   "display_name": "Python 3",
   "language": "python",
   "name": "python3"
  },
  "language_info": {
   "codemirror_mode": {
    "name": "ipython",
    "version": 3
   },
   "file_extension": ".py",
   "mimetype": "text/x-python",
   "name": "python",
   "nbconvert_exporter": "python",
   "pygments_lexer": "ipython3",
   "version": "3.11.7"
  }
 },
 "nbformat": 4,
 "nbformat_minor": 2
}
