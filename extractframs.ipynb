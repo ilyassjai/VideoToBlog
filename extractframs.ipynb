{
 "cells": [
  {
   "cell_type": "code",
   "execution_count": 1,
   "metadata": {},
   "outputs": [],
   "source": [
    "import cv2\n",
    "\n",
    "def extract_frames(video_path, output_folder, frame_interval=60):\n",
    "    vidcap = cv2.VideoCapture(video_path)\n",
    "    success, image = vidcap.read()\n",
    "    count = 0\n",
    "    while success:\n",
    "        if count % frame_interval == 0:  # save frame every 'frame_interval' frames\n",
    "            cv2.imwrite(f\"{output_folder}/frame{count}.jpg\", image)\n",
    "        success, image = vidcap.read()\n",
    "        count += 1"
   ]
  },
  {
   "cell_type": "code",
   "execution_count": null,
   "metadata": {},
   "outputs": [],
   "source": [
    "extract_frames('C:\\\\Users\\\\ilyas\\\\Desktop\\\\VIDEO2BLOG\\\\vid.mp4', 'C:\\\\Users\\\\ilyas\\\\Desktop\\\\VIDEO2BLOG\\\\allframes', frame_interval=60)"
   ]
  }
 ],
 "metadata": {
  "kernelspec": {
   "display_name": "Python 3",
   "language": "python",
   "name": "python3"
  },
  "language_info": {
   "codemirror_mode": {
    "name": "ipython",
    "version": 3
   },
   "file_extension": ".py",
   "mimetype": "text/x-python",
   "name": "python",
   "nbconvert_exporter": "python",
   "pygments_lexer": "ipython3",
   "version": "3.12.0"
  }
 },
 "nbformat": 4,
 "nbformat_minor": 2
}
